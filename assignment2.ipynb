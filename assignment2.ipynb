{
 "cells": [
  {
   "cell_type": "code",
   "execution_count": 2,
   "id": "4fc7e427-669d-4f6e-9669-22e5043965e6",
   "metadata": {},
   "outputs": [],
   "source": [
    "import numpy as np"
   ]
  },
  {
   "cell_type": "code",
   "execution_count": 3,
   "id": "afae4579-b491-4be3-8cfb-bf2cfa2fd22c",
   "metadata": {},
   "outputs": [],
   "source": [
    "array1 = np.array([1,2,3,4,5])"
   ]
  },
  {
   "cell_type": "code",
   "execution_count": 4,
   "id": "cbb6f91a-4517-460a-869c-3397becc4ae7",
   "metadata": {},
   "outputs": [
    {
     "name": "stdout",
     "output_type": "stream",
     "text": [
      "[1 2 3 4 5]\n"
     ]
    }
   ],
   "source": [
    "print(array1)"
   ]
  },
  {
   "cell_type": "code",
   "execution_count": 5,
   "id": "180e3518-546b-4772-9dfa-e58004426b6b",
   "metadata": {},
   "outputs": [],
   "source": [
    "array2 = np.random.rand(3, 4)"
   ]
  },
  {
   "cell_type": "code",
   "execution_count": 6,
   "id": "8fed7487-32e7-4275-b393-04c9584aff50",
   "metadata": {},
   "outputs": [
    {
     "data": {
      "text/plain": [
       "array([[0.67912356, 0.37868123, 0.04981367, 0.69628625],\n",
       "       [0.12275882, 0.7882271 , 0.21610951, 0.65082409],\n",
       "       [0.50788974, 0.053135  , 0.71807013, 0.20034357]])"
      ]
     },
     "execution_count": 6,
     "metadata": {},
     "output_type": "execute_result"
    }
   ],
   "source": [
    "array2"
   ]
  },
  {
   "cell_type": "code",
   "execution_count": 7,
   "id": "a21f460a-e604-49e1-bfe9-5e555a114f50",
   "metadata": {},
   "outputs": [],
   "source": [
    "array3 = np.zeros((2, 3, 4))"
   ]
  },
  {
   "cell_type": "code",
   "execution_count": 8,
   "id": "7b23a0c8-c431-4c8e-87d2-fff170c67823",
   "metadata": {},
   "outputs": [
    {
     "data": {
      "text/plain": [
       "array([[[0., 0., 0., 0.],\n",
       "        [0., 0., 0., 0.],\n",
       "        [0., 0., 0., 0.]],\n",
       "\n",
       "       [[0., 0., 0., 0.],\n",
       "        [0., 0., 0., 0.],\n",
       "        [0., 0., 0., 0.]]])"
      ]
     },
     "execution_count": 8,
     "metadata": {},
     "output_type": "execute_result"
    }
   ],
   "source": [
    "array3"
   ]
  },
  {
   "cell_type": "code",
   "execution_count": 9,
   "id": "5388e716-9036-4694-a044-4a3367c42d20",
   "metadata": {},
   "outputs": [],
   "source": [
    "arr1 = np.array([1, 2, 3, 4])\n",
    "arr2 = np.array([5, 6, 7, 8])"
   ]
  },
  {
   "cell_type": "code",
   "execution_count": 10,
   "id": "b07d4681-190e-4d21-a7a2-f6649e11bc83",
   "metadata": {},
   "outputs": [],
   "source": [
    "addition = np.add(arr1, arr2)\n",
    "subtraction = np.subtract(arr1, arr2)\n",
    "multiplication = np.multiply(arr1, arr2)\n",
    "division = np.divide(arr1, arr2)"
   ]
  },
  {
   "cell_type": "code",
   "execution_count": 11,
   "id": "611c038f-d0ce-4ae3-be52-c0890a6fcfa2",
   "metadata": {},
   "outputs": [
    {
     "data": {
      "text/plain": [
       "array([ 6,  8, 10, 12])"
      ]
     },
     "execution_count": 11,
     "metadata": {},
     "output_type": "execute_result"
    }
   ],
   "source": [
    "addition"
   ]
  },
  {
   "cell_type": "code",
   "execution_count": 12,
   "id": "0e7bd0c7-4eae-4cf6-88fd-086fc85fd8fd",
   "metadata": {},
   "outputs": [
    {
     "data": {
      "text/plain": [
       "array([-4, -4, -4, -4])"
      ]
     },
     "execution_count": 12,
     "metadata": {},
     "output_type": "execute_result"
    }
   ],
   "source": [
    "subtraction"
   ]
  },
  {
   "cell_type": "code",
   "execution_count": 13,
   "id": "f4162a60-68db-4416-b894-1b431b22f4ea",
   "metadata": {},
   "outputs": [
    {
     "data": {
      "text/plain": [
       "array([ 5, 12, 21, 32])"
      ]
     },
     "execution_count": 13,
     "metadata": {},
     "output_type": "execute_result"
    }
   ],
   "source": [
    "multiplication\n"
   ]
  },
  {
   "cell_type": "code",
   "execution_count": 14,
   "id": "364cc87d-5077-4e4a-873f-f31bc8dd53c4",
   "metadata": {},
   "outputs": [
    {
     "data": {
      "text/plain": [
       "array([0.2       , 0.33333333, 0.42857143, 0.5       ])"
      ]
     },
     "execution_count": 14,
     "metadata": {},
     "output_type": "execute_result"
    }
   ],
   "source": [
    "division"
   ]
  },
  {
   "cell_type": "code",
   "execution_count": 15,
   "id": "a3e75bf8-7d61-4e87-8ff2-4d6132b98e58",
   "metadata": {},
   "outputs": [],
   "source": [
    "array = np.array([1, 2, 3, 4, 5, 6, 7, 8, 9, 10])"
   ]
  },
  {
   "cell_type": "code",
   "execution_count": 16,
   "id": "9376c23f-b318-446b-8e47-eba663a26dfe",
   "metadata": {},
   "outputs": [],
   "source": [
    "mean = np.mean(array)\n",
    "median = np.median(array)\n",
    "std_dev = np.std(array)"
   ]
  },
  {
   "cell_type": "code",
   "execution_count": 17,
   "id": "2676ebe9-6669-4c45-92ab-07fcef16a1b1",
   "metadata": {},
   "outputs": [
    {
     "data": {
      "text/plain": [
       "5.5"
      ]
     },
     "execution_count": 17,
     "metadata": {},
     "output_type": "execute_result"
    }
   ],
   "source": [
    "mean"
   ]
  },
  {
   "cell_type": "code",
   "execution_count": 18,
   "id": "07bfd6f3-35da-4a91-801f-af5aefd82e5c",
   "metadata": {},
   "outputs": [
    {
     "data": {
      "text/plain": [
       "5.5"
      ]
     },
     "execution_count": 18,
     "metadata": {},
     "output_type": "execute_result"
    }
   ],
   "source": [
    "median"
   ]
  },
  {
   "cell_type": "code",
   "execution_count": 19,
   "id": "3837b701-d008-4df9-bfe2-1db2f55706ee",
   "metadata": {},
   "outputs": [
    {
     "data": {
      "text/plain": [
       "2.8722813232690143"
      ]
     },
     "execution_count": 19,
     "metadata": {},
     "output_type": "execute_result"
    }
   ],
   "source": [
    "std_dev"
   ]
  },
  {
   "cell_type": "code",
   "execution_count": 20,
   "id": "d3c53041-87af-4714-b14d-30660596aeae",
   "metadata": {},
   "outputs": [],
   "source": [
    "array_1d = np.array([1, 2, 3, 4, 5, 6, 7, 8, 9, 10, 11, 12])"
   ]
  },
  {
   "cell_type": "code",
   "execution_count": 21,
   "id": "db8ea7dd-2bc8-474a-beaf-cbb771c9a34f",
   "metadata": {},
   "outputs": [
    {
     "data": {
      "text/plain": [
       "array([[ 1,  2,  3,  4],\n",
       "       [ 5,  6,  7,  8],\n",
       "       [ 9, 10, 11, 12]])"
      ]
     },
     "execution_count": 21,
     "metadata": {},
     "output_type": "execute_result"
    }
   ],
   "source": [
    "array_2d = array_1d.reshape(3, 4)\n",
    "array_2d"
   ]
  },
  {
   "cell_type": "code",
   "execution_count": 22,
   "id": "46e5ba37-e5e2-4444-855c-ecf368e77fc6",
   "metadata": {},
   "outputs": [],
   "source": [
    "arr2d = np.array([[1, 2, 3],[4, 5, 6],[7, 8, 9]])"
   ]
  },
  {
   "cell_type": "code",
   "execution_count": 23,
   "id": "8951e70f-dd28-4f21-8a43-563729b88f5e",
   "metadata": {},
   "outputs": [],
   "source": [
    "first_row = arr2d[0, :]\n",
    "last_column = arr2d[:, -1]"
   ]
  },
  {
   "cell_type": "code",
   "execution_count": 24,
   "id": "8bcab4c5-868d-4193-9cde-2f425675ad77",
   "metadata": {},
   "outputs": [
    {
     "data": {
      "text/plain": [
       "array([1, 2, 3])"
      ]
     },
     "execution_count": 24,
     "metadata": {},
     "output_type": "execute_result"
    }
   ],
   "source": [
    "first_row"
   ]
  },
  {
   "cell_type": "code",
   "execution_count": 25,
   "id": "212559bf-2b5e-41d8-a627-49271d954264",
   "metadata": {},
   "outputs": [
    {
     "data": {
      "text/plain": [
       "array([3, 6, 9])"
      ]
     },
     "execution_count": 25,
     "metadata": {},
     "output_type": "execute_result"
    }
   ],
   "source": [
    "last_column"
   ]
  },
  {
   "cell_type": "code",
   "execution_count": 26,
   "id": "7953dfc5-01c5-4256-a59d-92d0081e2fc1",
   "metadata": {},
   "outputs": [],
   "source": [
    "ar = np.array([1, 2, 3, 4, 5])"
   ]
  },
  {
   "cell_type": "code",
   "execution_count": 27,
   "id": "aeda26c7-487f-4954-947c-393edf31b852",
   "metadata": {},
   "outputs": [],
   "source": [
    "reversed_arr = ar[::-1]"
   ]
  },
  {
   "cell_type": "code",
   "execution_count": 28,
   "id": "1b5ff999-b715-43e4-bc55-35071324ad8a",
   "metadata": {},
   "outputs": [
    {
     "data": {
      "text/plain": [
       "array([5, 4, 3, 2, 1])"
      ]
     },
     "execution_count": 28,
     "metadata": {},
     "output_type": "execute_result"
    }
   ],
   "source": [
    "reversed_arr"
   ]
  },
  {
   "cell_type": "code",
   "execution_count": 29,
   "id": "e06599e4-7b95-4643-ac3b-02f9fb5f3472",
   "metadata": {},
   "outputs": [],
   "source": [
    "array2d = np.array([[1, 2, 3],[4, 5, 6],[7, 8, 9]])\n"
   ]
  },
  {
   "cell_type": "code",
   "execution_count": 30,
   "id": "a27fb058-e6a6-48dc-821d-ff14bb777a9f",
   "metadata": {},
   "outputs": [],
   "source": [
    "threshold = 5"
   ]
  },
  {
   "cell_type": "code",
   "execution_count": 31,
   "id": "5dafb1c0-902a-4c3e-b539-a40375265889",
   "metadata": {},
   "outputs": [
    {
     "data": {
      "text/plain": [
       "array([6, 7, 8, 9])"
      ]
     },
     "execution_count": 31,
     "metadata": {},
     "output_type": "execute_result"
    }
   ],
   "source": [
    "cond = array2d[array2d > threshold]\n",
    "cond"
   ]
  },
  {
   "cell_type": "code",
   "execution_count": 32,
   "id": "e98ab2b9-5881-46e3-8bc9-014a240b4ad3",
   "metadata": {},
   "outputs": [],
   "source": [
    "arra = np.array([[1, 2, 3],[4, 5, 6],[7, 8, 9]])\n",
    "scalar_value = 10\n"
   ]
  },
  {
   "cell_type": "code",
   "execution_count": 33,
   "id": "96a1cba2-8abd-49f6-bc6d-812c71d0f7e9",
   "metadata": {},
   "outputs": [
    {
     "data": {
      "text/plain": [
       "array([[11, 12, 13],\n",
       "       [14, 15, 16],\n",
       "       [17, 18, 19]])"
      ]
     },
     "execution_count": 33,
     "metadata": {},
     "output_type": "execute_result"
    }
   ],
   "source": [
    "result = arra + scalar_value\n",
    "result"
   ]
  },
  {
   "cell_type": "code",
   "execution_count": 34,
   "id": "70949ee8-8c30-4b24-abea-6bef8f2928ee",
   "metadata": {},
   "outputs": [],
   "source": [
    "a = np.array([[1,2,3,4,5],[6,7,8,9,10]])\n",
    "b = np.array([11,12,13,14,15])"
   ]
  },
  {
   "cell_type": "code",
   "execution_count": 35,
   "id": "a367111f-4ad1-4fbc-b45d-b0ff9fb30a14",
   "metadata": {},
   "outputs": [
    {
     "data": {
      "text/plain": [
       "array([[ 11,  24,  39,  56,  75],\n",
       "       [ 66,  84, 104, 126, 150]])"
      ]
     },
     "execution_count": 35,
     "metadata": {},
     "output_type": "execute_result"
    }
   ],
   "source": [
    "c= a*b\n",
    "c"
   ]
  },
  {
   "cell_type": "code",
   "execution_count": 36,
   "id": "6b8bd250-d169-4e3e-a399-22a1214086c5",
   "metadata": {},
   "outputs": [],
   "source": [
    "arr1 = np.array([1, 2, 3])\n",
    "arr2 = np.array([4, 5, 6])\n"
   ]
  },
  {
   "cell_type": "code",
   "execution_count": 37,
   "id": "cfe740d9-c10b-4cc5-9155-f9e5ae1e3d84",
   "metadata": {},
   "outputs": [
    {
     "data": {
      "text/plain": [
       "32"
      ]
     },
     "execution_count": 37,
     "metadata": {},
     "output_type": "execute_result"
    }
   ],
   "source": [
    "result =np.dot(arr1, arr2)\n",
    "result"
   ]
  },
  {
   "cell_type": "code",
   "execution_count": 38,
   "id": "af10ae45-284b-4b08-b776-9a7ce3b755a1",
   "metadata": {},
   "outputs": [],
   "source": [
    "array1 = np.array([[1, 2], [3, 4]])\n",
    "array2 = np.array([[5, 6], [7, 8]])\n",
    "result = np.dot(array1, array2)"
   ]
  },
  {
   "cell_type": "code",
   "execution_count": 39,
   "id": "614436e0-64fe-4119-ad2b-474a61b9d5f4",
   "metadata": {},
   "outputs": [
    {
     "data": {
      "text/plain": [
       "array([[19, 22],\n",
       "       [43, 50]])"
      ]
     },
     "execution_count": 39,
     "metadata": {},
     "output_type": "execute_result"
    }
   ],
   "source": [
    "result"
   ]
  },
  {
   "cell_type": "code",
   "execution_count": 40,
   "id": "5f5d03b6-851b-4db0-8ca1-7e4500a4b199",
   "metadata": {},
   "outputs": [],
   "source": [
    "matrix = np.array([[50, 29], [30, 44]])"
   ]
  },
  {
   "cell_type": "code",
   "execution_count": 41,
   "id": "41c0f1a7-9a25-494e-b1ef-39cf913407c2",
   "metadata": {},
   "outputs": [
    {
     "data": {
      "text/plain": [
       "1330.0000000000002"
      ]
     },
     "execution_count": 41,
     "metadata": {},
     "output_type": "execute_result"
    }
   ],
   "source": [
    "det = np.linalg.det(matrix) \n",
    "det"
   ]
  },
  {
   "cell_type": "code",
   "execution_count": 42,
   "id": "add703c9-1d5b-47f9-a0e0-83b4c096cc7b",
   "metadata": {},
   "outputs": [],
   "source": [
    "inv = np.linalg.inv(matrix)"
   ]
  },
  {
   "cell_type": "code",
   "execution_count": 43,
   "id": "24d0d15a-1318-4655-bae9-7bf425d18c66",
   "metadata": {},
   "outputs": [
    {
     "data": {
      "text/plain": [
       "array([[ 0.03308271, -0.02180451],\n",
       "       [-0.02255639,  0.03759398]])"
      ]
     },
     "execution_count": 43,
     "metadata": {},
     "output_type": "execute_result"
    }
   ],
   "source": [
    "inv"
   ]
  },
  {
   "cell_type": "code",
   "execution_count": null,
   "id": "8c82e8df-c51d-4266-ba8b-56829080b627",
   "metadata": {},
   "outputs": [],
   "source": []
  }
 ],
 "metadata": {
  "kernelspec": {
   "display_name": "Python 3 (ipykernel)",
   "language": "python",
   "name": "python3"
  },
  "language_info": {
   "codemirror_mode": {
    "name": "ipython",
    "version": 3
   },
   "file_extension": ".py",
   "mimetype": "text/x-python",
   "name": "python",
   "nbconvert_exporter": "python",
   "pygments_lexer": "ipython3",
   "version": "3.11.7"
  }
 },
 "nbformat": 4,
 "nbformat_minor": 5
}
