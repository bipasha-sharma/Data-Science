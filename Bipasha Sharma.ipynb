{
 "cells": [
  {
   "cell_type": "markdown",
   "id": "fbccc615-a69c-4016-8687-9fee81cfe958",
   "metadata": {},
   "source": [
    "Assignment 1"
   ]
  },
  {
   "cell_type": "code",
   "execution_count": 1,
   "id": "c7da2a15-5f49-451d-b83d-25686816e332",
   "metadata": {},
   "outputs": [
    {
     "data": {
      "text/plain": [
       "['Mulholland drive', 'The Darjeeling Limited', 'Drive away dolls']"
      ]
     },
     "execution_count": 1,
     "metadata": {},
     "output_type": "execute_result"
    }
   ],
   "source": [
    "list_a = ['Mulholland drive','The Darjeeling Limited','Drive away dolls']\n",
    "list_a"
   ]
  },
  {
   "cell_type": "code",
   "execution_count": 2,
   "id": "4d5ae9bc-58b7-44dc-989e-c8a4fa372f0b",
   "metadata": {},
   "outputs": [],
   "source": [
    "list_a.append('amelie')"
   ]
  },
  {
   "cell_type": "code",
   "execution_count": 3,
   "id": "044f6f7e-a1ca-4640-af45-940a10d21538",
   "metadata": {},
   "outputs": [
    {
     "data": {
      "text/plain": [
       "['Mulholland drive', 'The Darjeeling Limited', 'Drive away dolls', 'amelie']"
      ]
     },
     "execution_count": 3,
     "metadata": {},
     "output_type": "execute_result"
    }
   ],
   "source": [
    "list_a"
   ]
  },
  {
   "cell_type": "code",
   "execution_count": 4,
   "id": "fc59e8df-91f4-42b4-8544-c464e2e97308",
   "metadata": {},
   "outputs": [
    {
     "data": {
      "text/plain": [
       "[1, 2, 3, 4, 5, 6, 7, 8, 9, 10]"
      ]
     },
     "execution_count": 4,
     "metadata": {},
     "output_type": "execute_result"
    }
   ],
   "source": [
    "list_b = [1,2,3,4,5,6,7,8,9,10]\n",
    "list_b"
   ]
  },
  {
   "cell_type": "code",
   "execution_count": 5,
   "id": "8ab52e77-1623-4a95-be63-79c55efd20c8",
   "metadata": {},
   "outputs": [
    {
     "data": {
      "text/plain": [
       "55"
      ]
     },
     "execution_count": 5,
     "metadata": {},
     "output_type": "execute_result"
    }
   ],
   "source": [
    "sum(list_b)"
   ]
  },
  {
   "cell_type": "code",
   "execution_count": 6,
   "id": "74e8fba2-3bb4-4211-87a0-f0095ba59251",
   "metadata": {},
   "outputs": [
    {
     "data": {
      "text/plain": [
       "[5, 'apple', 0.5]"
      ]
     },
     "execution_count": 6,
     "metadata": {},
     "output_type": "execute_result"
    }
   ],
   "source": [
    "list_c = [5,'apple',0.5]\n",
    "list_c"
   ]
  },
  {
   "cell_type": "code",
   "execution_count": 7,
   "id": "9fc9ad8d-0677-4959-bb6a-029502ed70da",
   "metadata": {},
   "outputs": [
    {
     "data": {
      "text/plain": [
       "0"
      ]
     },
     "execution_count": 7,
     "metadata": {},
     "output_type": "execute_result"
    }
   ],
   "source": [
    "index = list_c.index(5)\n",
    "index"
   ]
  },
  {
   "cell_type": "code",
   "execution_count": 8,
   "id": "018afe54-39f6-4082-a753-d955d39c55c8",
   "metadata": {},
   "outputs": [
    {
     "data": {
      "text/plain": [
       "5"
      ]
     },
     "execution_count": 8,
     "metadata": {},
     "output_type": "execute_result"
    }
   ],
   "source": [
    "list_c.pop(0)"
   ]
  },
  {
   "cell_type": "code",
   "execution_count": 9,
   "id": "10b47f29-8ed3-4194-afd2-6360cd40ca0d",
   "metadata": {},
   "outputs": [
    {
     "data": {
      "text/plain": [
       "['apple', 0.5]"
      ]
     },
     "execution_count": 9,
     "metadata": {},
     "output_type": "execute_result"
    }
   ],
   "source": [
    "list_c"
   ]
  },
  {
   "cell_type": "code",
   "execution_count": 10,
   "id": "2481df90-baeb-4b06-8cf8-31769a629fc3",
   "metadata": {},
   "outputs": [
    {
     "data": {
      "text/plain": [
       "('Sunday', 'Monday', 'Tuesday', 'Wednesday', 'Thursday', 'Friday', 'Saturday')"
      ]
     },
     "execution_count": 10,
     "metadata": {},
     "output_type": "execute_result"
    }
   ],
   "source": [
    "tuple1= ('Sunday','Monday','Tuesday','Wednesday','Thursday','Friday','Saturday')\n",
    "tuple1"
   ]
  },
  {
   "cell_type": "code",
   "execution_count": 11,
   "id": "cf42f0dd-f4de-495f-a650-a15cd6b308e2",
   "metadata": {},
   "outputs": [
    {
     "data": {
      "text/plain": [
       "'Tuesday'"
      ]
     },
     "execution_count": 11,
     "metadata": {},
     "output_type": "execute_result"
    }
   ],
   "source": [
    "tuple1[2]"
   ]
  },
  {
   "cell_type": "code",
   "execution_count": 12,
   "id": "d24fb153-76e3-47c7-99e0-bee82d9fe09e",
   "metadata": {},
   "outputs": [
    {
     "data": {
      "text/plain": [
       "('dark red', 'purple', 'black', 'forest green')"
      ]
     },
     "execution_count": 12,
     "metadata": {},
     "output_type": "execute_result"
    }
   ],
   "source": [
    "tuple2= ('dark red','purple','black','forest green')\n",
    "tuple2"
   ]
  },
  {
   "cell_type": "code",
   "execution_count": 13,
   "id": "012e1ff2-c247-4511-a904-494151f9c286",
   "metadata": {},
   "outputs": [],
   "source": [
    "color_to_check = 'dark red'"
   ]
  },
  {
   "cell_type": "code",
   "execution_count": 14,
   "id": "9d80d69e-aa79-4fe2-835d-adad22a37019",
   "metadata": {},
   "outputs": [],
   "source": [
    "if color_to_check in tuple2:\n",
    "    tuple2"
   ]
  },
  {
   "cell_type": "code",
   "execution_count": 15,
   "id": "c9d1d06a-83bb-4a63-aab8-1cbd47eafab1",
   "metadata": {},
   "outputs": [
    {
     "name": "stdout",
     "output_type": "stream",
     "text": [
      "('dark red', 'purple', 'black', 'forest green')\n"
     ]
    }
   ],
   "source": [
    "if color_to_check in tuple2:\n",
    "    print (tuple2)"
   ]
  },
  {
   "cell_type": "code",
   "execution_count": 16,
   "id": "97962d12-ff9b-4717-a362-7a78a45f8afb",
   "metadata": {},
   "outputs": [
    {
     "data": {
      "text/plain": [
       "{'title': 'the bell jar', 'author': 'Sylvia Plath', 'year': '1962'}"
      ]
     },
     "execution_count": 16,
     "metadata": {},
     "output_type": "execute_result"
    }
   ],
   "source": [
    "dict_a = {'title':'the bell jar', 'author':'Sylvia Plath', 'year':'1962'}\n",
    "dict_a"
   ]
  },
  {
   "cell_type": "code",
   "execution_count": 17,
   "id": "8ad78a58-bba3-4b3c-b661-06dd8b46fb56",
   "metadata": {},
   "outputs": [],
   "source": [
    "dict_a[\"year\"] = 1963"
   ]
  },
  {
   "cell_type": "code",
   "execution_count": 18,
   "id": "dba24cc7-4d5d-4fa4-b424-f4fbe68a4ca1",
   "metadata": {},
   "outputs": [
    {
     "data": {
      "text/plain": [
       "{'title': 'the bell jar', 'author': 'Sylvia Plath', 'year': 1963}"
      ]
     },
     "execution_count": 18,
     "metadata": {},
     "output_type": "execute_result"
    }
   ],
   "source": [
    "dict_a"
   ]
  },
  {
   "cell_type": "code",
   "execution_count": 19,
   "id": "b9059b1b-ef22-4be2-a5f2-0e0ab20c78b0",
   "metadata": {},
   "outputs": [
    {
     "data": {
      "text/plain": [
       "{'strawberry': 'red', 'banana': 'yellow', 'orange': 'orange'}"
      ]
     },
     "execution_count": 19,
     "metadata": {},
     "output_type": "execute_result"
    }
   ],
   "source": [
    "fruits= {'strawberry':'red','banana':'yellow','orange':'orange'}\n",
    "fruits"
   ]
  },
  {
   "cell_type": "code",
   "execution_count": 20,
   "id": "caba12e5-369c-4456-8653-8d8973c4e016",
   "metadata": {},
   "outputs": [],
   "source": [
    "fruits[\"blueberry\"] = \"blue\""
   ]
  },
  {
   "cell_type": "code",
   "execution_count": 21,
   "id": "edf574f6-07a9-4fb7-af93-a819d2d9918f",
   "metadata": {},
   "outputs": [
    {
     "data": {
      "text/plain": [
       "{'strawberry': 'red',\n",
       " 'banana': 'yellow',\n",
       " 'orange': 'orange',\n",
       " 'blueberry': 'blue'}"
      ]
     },
     "execution_count": 21,
     "metadata": {},
     "output_type": "execute_result"
    }
   ],
   "source": [
    "fruits"
   ]
  },
  {
   "cell_type": "code",
   "execution_count": 22,
   "id": "c42b297c-5b79-40ce-bfca-dcc3feb3735a",
   "metadata": {},
   "outputs": [
    {
     "data": {
      "text/plain": [
       "{'Kathmandu': 1000000,\n",
       " 'Pokhara': 500000,\n",
       " 'Lalitpur': 300000,\n",
       " 'Bhaktapur': 200000,\n",
       " 'Biratnagar': 250000}"
      ]
     },
     "execution_count": 22,
     "metadata": {},
     "output_type": "execute_result"
    }
   ],
   "source": [
    "city_population = {\n",
    "    \"Kathmandu\": 1000000,\n",
    "    \"Pokhara\": 500000,\n",
    "    \"Lalitpur\": 300000,\n",
    "    \"Bhaktapur\": 200000,\n",
    "    \"Biratnagar\": 250000\n",
    "}\n",
    "city_population\n"
   ]
  },
  {
   "cell_type": "code",
   "execution_count": 23,
   "id": "c1b3862e-4517-4bb1-98a1-ce7a7db717dd",
   "metadata": {},
   "outputs": [
    {
     "data": {
      "text/plain": [
       "200000"
      ]
     },
     "execution_count": 23,
     "metadata": {},
     "output_type": "execute_result"
    }
   ],
   "source": [
    "city_population.pop(\"Bhaktapur\")"
   ]
  },
  {
   "cell_type": "code",
   "execution_count": 24,
   "id": "00eaecde-3c60-4f8d-9729-84f44a0b83f3",
   "metadata": {},
   "outputs": [
    {
     "data": {
      "text/plain": [
       "{'Kathmandu': 1000000,\n",
       " 'Pokhara': 500000,\n",
       " 'Lalitpur': 300000,\n",
       " 'Biratnagar': 250000}"
      ]
     },
     "execution_count": 24,
     "metadata": {},
     "output_type": "execute_result"
    }
   ],
   "source": [
    "city_population"
   ]
  },
  {
   "cell_type": "code",
   "execution_count": null,
   "id": "17ad424c-4ee9-4336-97f4-e7038d0a7492",
   "metadata": {},
   "outputs": [],
   "source": []
  }
 ],
 "metadata": {
  "kernelspec": {
   "display_name": "Python 3 (ipykernel)",
   "language": "python",
   "name": "python3"
  },
  "language_info": {
   "codemirror_mode": {
    "name": "ipython",
    "version": 3
   },
   "file_extension": ".py",
   "mimetype": "text/x-python",
   "name": "python",
   "nbconvert_exporter": "python",
   "pygments_lexer": "ipython3",
   "version": "3.11.7"
  }
 },
 "nbformat": 4,
 "nbformat_minor": 5
}
